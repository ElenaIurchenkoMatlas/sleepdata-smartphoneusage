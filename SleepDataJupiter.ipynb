{
 "cells": [
  {
   "cell_type": "code",
   "execution_count": null,
   "metadata": {},
   "outputs": [],
   "source": []
  },
  {
   "cell_type": "code",
   "execution_count": 94,
   "metadata": {},
   "outputs": [
    {
     "data": {
      "text/html": [
       "<div>\n",
       "<style scoped>\n",
       "    .dataframe tbody tr th:only-of-type {\n",
       "        vertical-align: middle;\n",
       "    }\n",
       "\n",
       "    .dataframe tbody tr th {\n",
       "        vertical-align: top;\n",
       "    }\n",
       "\n",
       "    .dataframe thead th {\n",
       "        text-align: right;\n",
       "    }\n",
       "</style>\n",
       "<table border=\"1\" class=\"dataframe\">\n",
       "  <thead>\n",
       "    <tr style=\"text-align: right;\">\n",
       "      <th></th>\n",
       "      <th>Enough</th>\n",
       "      <th>Hours</th>\n",
       "      <th>PhoneReach</th>\n",
       "      <th>PhoneTime</th>\n",
       "      <th>Tired</th>\n",
       "      <th>Breakfast</th>\n",
       "    </tr>\n",
       "  </thead>\n",
       "  <tbody>\n",
       "    <tr>\n",
       "      <th>0</th>\n",
       "      <td>Yes</td>\n",
       "      <td>8.0</td>\n",
       "      <td>Yes</td>\n",
       "      <td>Yes</td>\n",
       "      <td>3</td>\n",
       "      <td>Yes</td>\n",
       "    </tr>\n",
       "    <tr>\n",
       "      <th>1</th>\n",
       "      <td>No</td>\n",
       "      <td>6.0</td>\n",
       "      <td>Yes</td>\n",
       "      <td>Yes</td>\n",
       "      <td>3</td>\n",
       "      <td>No</td>\n",
       "    </tr>\n",
       "    <tr>\n",
       "      <th>2</th>\n",
       "      <td>Yes</td>\n",
       "      <td>6.0</td>\n",
       "      <td>Yes</td>\n",
       "      <td>Yes</td>\n",
       "      <td>2</td>\n",
       "      <td>Yes</td>\n",
       "    </tr>\n",
       "    <tr>\n",
       "      <th>3</th>\n",
       "      <td>No</td>\n",
       "      <td>7.0</td>\n",
       "      <td>Yes</td>\n",
       "      <td>Yes</td>\n",
       "      <td>4</td>\n",
       "      <td>No</td>\n",
       "    </tr>\n",
       "    <tr>\n",
       "      <th>4</th>\n",
       "      <td>No</td>\n",
       "      <td>7.0</td>\n",
       "      <td>Yes</td>\n",
       "      <td>Yes</td>\n",
       "      <td>2</td>\n",
       "      <td>Yes</td>\n",
       "    </tr>\n",
       "  </tbody>\n",
       "</table>\n",
       "</div>"
      ],
      "text/plain": [
       "  Enough  Hours PhoneReach PhoneTime  Tired Breakfast\n",
       "0    Yes    8.0        Yes       Yes      3       Yes\n",
       "1     No    6.0        Yes       Yes      3        No\n",
       "2    Yes    6.0        Yes       Yes      2       Yes\n",
       "3     No    7.0        Yes       Yes      4        No\n",
       "4     No    7.0        Yes       Yes      2       Yes"
      ]
     },
     "execution_count": 94,
     "metadata": {},
     "output_type": "execute_result"
    }
   ],
   "source": [
    "import pandas as pd\n",
    "import matplotlib.pyplot as plt\n",
    "import numpy as np\n",
    "\n",
    "# Assuming \"SleepStudyData.csv\" is in the same directory as your script\n",
    "file_path = \"SleepStudyData.csv\"\n",
    "\n",
    "# Read the CSV file into a DataFrame\n",
    "sleep_data = pd.read_csv(file_path)\n",
    "\n",
    "# Display the first few rows of the DataFrame\n",
    "sleep_data.head()"
   ]
  },
  {
   "cell_type": "markdown",
   "metadata": {},
   "source": [
    "Here is a description of each of the variables contained within the dataset.\n",
    "\n",
    "Enough = Do you think that you get enough sleep?\n",
    "Hours = On average, how many hours of sleep do you get on a weeknight?\n",
    "PhoneReach = Do you sleep with your phone within arms reach?\n",
    "PhoneTime = Do you use your phone within 30 minutes of falling asleep?\n",
    "Tired = On a scale from 1 to 5, how tired are you throughout the day? (1 being not tired, 5 being very tired)\n",
    "Breakfast = Do you typically eat breakfast?"
   ]
  },
  {
   "cell_type": "code",
   "execution_count": 78,
   "metadata": {},
   "outputs": [
    {
     "data": {
      "text/plain": [
       "Hours\n",
       "7.0     35\n",
       "6.0     24\n",
       "8.0     16\n",
       "5.0     12\n",
       "9.0      8\n",
       "4.0      4\n",
       "2.0      2\n",
       "10.0     1\n",
       "Name: count, dtype: int64"
      ]
     },
     "execution_count": 78,
     "metadata": {},
     "output_type": "execute_result"
    }
   ],
   "source": [
    "sleeping_houres = sleep_data[\"Hours\"]\n",
    "sleeping_houres.value_counts()"
   ]
  },
  {
   "cell_type": "code",
   "execution_count": 91,
   "metadata": {},
   "outputs": [
    {
     "data": {
      "image/png": "[encoded data removed]",
      "text/plain": [
       "<Figure size 640x480 with 1 Axes>"
      ]
     },
     "metadata": {},
     "output_type": "display_data"
    }
   ],
   "source": [
    "# Assuming 'hours_value_counts' is your Series\n",
    "# Convert the Series to a DataFrame\n",
    "# Extract the 'Hours' column\n",
    "sleeping_hours = sleep_data['Hours']\n",
    "\n",
    "# Reset the index of the Series\n",
    "sleeping_hours_reseted = sleeping_hours.reset_index()\n",
    "\n",
    "# Rename the columns for clarity\n",
    "sleeping_hours_reseted.columns = ['Index', 'Hours']\n",
    "\n",
    "# Group by the 'Hours' and count the occurrences\n",
    "grouped_sleep_data = sleeping_hours_reseted.groupby('Hours').count().reset_index()\n",
    "\n",
    "# Sort the DataFrame by 'Hours' in descending order\n",
    "grouped_sleep_data = grouped_sleep_data.sort_values(by='Index', ascending=False)\n",
    "\n",
    "# Plotting the grouped data\n",
    "grouped_sleep_data.plot(kind='bar', x='Index', y='Hours', legend=False)\n",
    "plt.xlabel('Number of people')\n",
    "plt.ylabel('Houres of Sleep')\n",
    "plt.title('Summarized Distribution of Sleep Hours')\n",
    "plt.show()"
   ]
  },
  {
   "cell_type": "code",
   "execution_count": 50,
   "metadata": {},
   "outputs": [
    {
     "name": "stdout",
     "output_type": "stream",
     "text": [
      "<class 'pandas.core.frame.DataFrame'>\n",
      "RangeIndex: 104 entries, 0 to 103\n",
      "Data columns (total 6 columns):\n",
      " #   Column      Non-Null Count  Dtype  \n",
      "---  ------      --------------  -----  \n",
      " 0   Enough      104 non-null    object \n",
      " 1   Hours       102 non-null    float64\n",
      " 2   PhoneReach  104 non-null    object \n",
      " 3   PhoneTime   104 non-null    object \n",
      " 4   Tired       104 non-null    int64  \n",
      " 5   Breakfast   104 non-null    object \n",
      "dtypes: float64(1), int64(1), object(4)\n",
      "memory usage: 5.0+ KB\n"
     ]
    }
   ],
   "source": [
    "sleep_data.info()"
   ]
  },
  {
   "cell_type": "code",
   "execution_count": 51,
   "metadata": {},
   "outputs": [
    {
     "data": {
      "text/html": [
       "<div>\n",
       "<style scoped>\n",
       "    .dataframe tbody tr th:only-of-type {\n",
       "        vertical-align: middle;\n",
       "    }\n",
       "\n",
       "    .dataframe tbody tr th {\n",
       "        vertical-align: top;\n",
       "    }\n",
       "\n",
       "    .dataframe thead th {\n",
       "        text-align: right;\n",
       "    }\n",
       "</style>\n",
       "<table border=\"1\" class=\"dataframe\">\n",
       "  <thead>\n",
       "    <tr style=\"text-align: right;\">\n",
       "      <th></th>\n",
       "      <th>Enough</th>\n",
       "      <th>Hours</th>\n",
       "      <th>PhoneReach</th>\n",
       "      <th>PhoneTime</th>\n",
       "      <th>Tired</th>\n",
       "      <th>Breakfast</th>\n",
       "    </tr>\n",
       "  </thead>\n",
       "  <tbody>\n",
       "    <tr>\n",
       "      <th>0</th>\n",
       "      <td>Yes</td>\n",
       "      <td>8.0</td>\n",
       "      <td>Yes</td>\n",
       "      <td>Yes</td>\n",
       "      <td>3</td>\n",
       "      <td>Yes</td>\n",
       "    </tr>\n",
       "    <tr>\n",
       "      <th>2</th>\n",
       "      <td>Yes</td>\n",
       "      <td>6.0</td>\n",
       "      <td>Yes</td>\n",
       "      <td>Yes</td>\n",
       "      <td>2</td>\n",
       "      <td>Yes</td>\n",
       "    </tr>\n",
       "    <tr>\n",
       "      <th>6</th>\n",
       "      <td>Yes</td>\n",
       "      <td>7.0</td>\n",
       "      <td>Yes</td>\n",
       "      <td>Yes</td>\n",
       "      <td>3</td>\n",
       "      <td>Yes</td>\n",
       "    </tr>\n",
       "    <tr>\n",
       "      <th>12</th>\n",
       "      <td>Yes</td>\n",
       "      <td>7.0</td>\n",
       "      <td>Yes</td>\n",
       "      <td>Yes</td>\n",
       "      <td>3</td>\n",
       "      <td>No</td>\n",
       "    </tr>\n",
       "    <tr>\n",
       "      <th>13</th>\n",
       "      <td>Yes</td>\n",
       "      <td>8.0</td>\n",
       "      <td>Yes</td>\n",
       "      <td>Yes</td>\n",
       "      <td>2</td>\n",
       "      <td>No</td>\n",
       "    </tr>\n",
       "  </tbody>\n",
       "</table>\n",
       "</div>"
      ],
      "text/plain": [
       "   Enough  Hours PhoneReach PhoneTime  Tired Breakfast\n",
       "0     Yes    8.0        Yes       Yes      3       Yes\n",
       "2     Yes    6.0        Yes       Yes      2       Yes\n",
       "6     Yes    7.0        Yes       Yes      3       Yes\n",
       "12    Yes    7.0        Yes       Yes      3        No\n",
       "13    Yes    8.0        Yes       Yes      2        No"
      ]
     },
     "execution_count": 51,
     "metadata": {},
     "output_type": "execute_result"
    }
   ],
   "source": [
    "# Create a boolean condition for filtering\n",
    "sl_enough_wt = (sleep_data[\"Enough\"] == \"Yes\") & (sleep_data[\"PhoneReach\"] == \"Yes\")\n",
    "\n",
    "# Apply the condition to the DataFrame\n",
    "a_sl_enough_wt = sleep_data[sl_enough_wt]\n",
    "\n",
    "# Display the first few rows of the filtered DataFrame\n",
    "a_sl_enough_wt.head()\n"
   ]
  },
  {
   "cell_type": "code",
   "execution_count": 52,
   "metadata": {},
   "outputs": [
    {
     "name": "stdout",
     "output_type": "stream",
     "text": [
      "<class 'pandas.core.frame.DataFrame'>\n",
      "Index: 23 entries, 0 to 103\n",
      "Data columns (total 6 columns):\n",
      " #   Column      Non-Null Count  Dtype  \n",
      "---  ------      --------------  -----  \n",
      " 0   Enough      23 non-null     object \n",
      " 1   Hours       23 non-null     float64\n",
      " 2   PhoneReach  23 non-null     object \n",
      " 3   PhoneTime   23 non-null     object \n",
      " 4   Tired       23 non-null     int64  \n",
      " 5   Breakfast   23 non-null     object \n",
      "dtypes: float64(1), int64(1), object(4)\n",
      "memory usage: 1.3+ KB\n"
     ]
    }
   ],
   "source": [
    "a_sl_enough_wt.info()"
   ]
  },
  {
   "cell_type": "markdown",
   "metadata": {},
   "source": [
    "# Get the value counts for multiple columns\n",
    "value_counts_result = a_sl_enough_wt[[\"Column1\", \"Column2\"]].value_counts()\n",
    "\n",
    "# Display the result\n",
    "print(value_counts_result)\n"
   ]
  },
  {
   "cell_type": "code",
   "execution_count": 53,
   "metadata": {},
   "outputs": [
    {
     "data": {
      "text/html": [
       "<div>\n",
       "<style scoped>\n",
       "    .dataframe tbody tr th:only-of-type {\n",
       "        vertical-align: middle;\n",
       "    }\n",
       "\n",
       "    .dataframe tbody tr th {\n",
       "        vertical-align: top;\n",
       "    }\n",
       "\n",
       "    .dataframe thead th {\n",
       "        text-align: right;\n",
       "    }\n",
       "</style>\n",
       "<table border=\"1\" class=\"dataframe\">\n",
       "  <thead>\n",
       "    <tr style=\"text-align: right;\">\n",
       "      <th></th>\n",
       "      <th>Enough</th>\n",
       "      <th>Hours</th>\n",
       "      <th>PhoneReach</th>\n",
       "      <th>PhoneTime</th>\n",
       "      <th>Tired</th>\n",
       "      <th>Breakfast</th>\n",
       "    </tr>\n",
       "  </thead>\n",
       "  <tbody>\n",
       "    <tr>\n",
       "      <th>14</th>\n",
       "      <td>Yes</td>\n",
       "      <td>7.0</td>\n",
       "      <td>No</td>\n",
       "      <td>Yes</td>\n",
       "      <td>3</td>\n",
       "      <td>Yes</td>\n",
       "    </tr>\n",
       "    <tr>\n",
       "      <th>29</th>\n",
       "      <td>Yes</td>\n",
       "      <td>9.0</td>\n",
       "      <td>No</td>\n",
       "      <td>No</td>\n",
       "      <td>2</td>\n",
       "      <td>Yes</td>\n",
       "    </tr>\n",
       "    <tr>\n",
       "      <th>36</th>\n",
       "      <td>Yes</td>\n",
       "      <td>7.0</td>\n",
       "      <td>No</td>\n",
       "      <td>No</td>\n",
       "      <td>2</td>\n",
       "      <td>Yes</td>\n",
       "    </tr>\n",
       "    <tr>\n",
       "      <th>37</th>\n",
       "      <td>Yes</td>\n",
       "      <td>9.0</td>\n",
       "      <td>No</td>\n",
       "      <td>Yes</td>\n",
       "      <td>2</td>\n",
       "      <td>Yes</td>\n",
       "    </tr>\n",
       "    <tr>\n",
       "      <th>40</th>\n",
       "      <td>Yes</td>\n",
       "      <td>8.0</td>\n",
       "      <td>No</td>\n",
       "      <td>Yes</td>\n",
       "      <td>1</td>\n",
       "      <td>Yes</td>\n",
       "    </tr>\n",
       "  </tbody>\n",
       "</table>\n",
       "</div>"
      ],
      "text/plain": [
       "   Enough  Hours PhoneReach PhoneTime  Tired Breakfast\n",
       "14    Yes    7.0         No       Yes      3       Yes\n",
       "29    Yes    9.0         No        No      2       Yes\n",
       "36    Yes    7.0         No        No      2       Yes\n",
       "37    Yes    9.0         No       Yes      2       Yes\n",
       "40    Yes    8.0         No       Yes      1       Yes"
      ]
     },
     "execution_count": 53,
     "metadata": {},
     "output_type": "execute_result"
    }
   ],
   "source": [
    "sl_enough_wot = (sleep_data[\"Enough\"] == \"Yes\") & (sleep_data[\"PhoneReach\"] == \"No\")\n",
    "a_sl_enough_wot = sleep_data[sl_enough_wot]\n",
    "\n",
    "# Display the first few rows of the filtered DataFrame\n",
    "a_sl_enough_wot.head()\n"
   ]
  },
  {
   "cell_type": "markdown",
   "metadata": {},
   "source": [
    "Now we can compare the quantity of persons who slept well with and without tepehon.\n"
   ]
  },
  {
   "cell_type": "code",
   "execution_count": 54,
   "metadata": {},
   "outputs": [
    {
     "name": "stdout",
     "output_type": "stream",
     "text": [
      "<class 'pandas.core.frame.DataFrame'>\n",
      "Index: 13 entries, 14 to 95\n",
      "Data columns (total 6 columns):\n",
      " #   Column      Non-Null Count  Dtype  \n",
      "---  ------      --------------  -----  \n",
      " 0   Enough      13 non-null     object \n",
      " 1   Hours       12 non-null     float64\n",
      " 2   PhoneReach  13 non-null     object \n",
      " 3   PhoneTime   13 non-null     object \n",
      " 4   Tired       13 non-null     int64  \n",
      " 5   Breakfast   13 non-null     object \n",
      "dtypes: float64(1), int64(1), object(4)\n",
      "memory usage: 728.0+ bytes\n"
     ]
    }
   ],
   "source": [
    "a_sl_enough_wot.info()"
   ]
  },
  {
   "cell_type": "markdown",
   "metadata": {},
   "source": [
    "We see that with telephone slept 23 Persons and without 13 Persons, thats says us, that it is unsignificant influence \n",
    "on the sleep process."
   ]
  },
  {
   "cell_type": "markdown",
   "metadata": {},
   "source": [
    "Now we will try to find out the dependence between breakfast & tiredness over the day"
   ]
  },
  {
   "cell_type": "code",
   "execution_count": 55,
   "metadata": {},
   "outputs": [
    {
     "data": {
      "text/html": [
       "<div>\n",
       "<style scoped>\n",
       "    .dataframe tbody tr th:only-of-type {\n",
       "        vertical-align: middle;\n",
       "    }\n",
       "\n",
       "    .dataframe tbody tr th {\n",
       "        vertical-align: top;\n",
       "    }\n",
       "\n",
       "    .dataframe thead th {\n",
       "        text-align: right;\n",
       "    }\n",
       "</style>\n",
       "<table border=\"1\" class=\"dataframe\">\n",
       "  <thead>\n",
       "    <tr style=\"text-align: right;\">\n",
       "      <th></th>\n",
       "      <th>Enough</th>\n",
       "      <th>Hours</th>\n",
       "      <th>PhoneReach</th>\n",
       "      <th>PhoneTime</th>\n",
       "      <th>Tired</th>\n",
       "      <th>Breakfast</th>\n",
       "    </tr>\n",
       "  </thead>\n",
       "  <tbody>\n",
       "    <tr>\n",
       "      <th>47</th>\n",
       "      <td>No</td>\n",
       "      <td>5.0</td>\n",
       "      <td>No</td>\n",
       "      <td>No</td>\n",
       "      <td>5</td>\n",
       "      <td>Yes</td>\n",
       "    </tr>\n",
       "    <tr>\n",
       "      <th>73</th>\n",
       "      <td>No</td>\n",
       "      <td>6.0</td>\n",
       "      <td>No</td>\n",
       "      <td>Yes</td>\n",
       "      <td>5</td>\n",
       "      <td>Yes</td>\n",
       "    </tr>\n",
       "    <tr>\n",
       "      <th>86</th>\n",
       "      <td>No</td>\n",
       "      <td>9.0</td>\n",
       "      <td>No</td>\n",
       "      <td>Yes</td>\n",
       "      <td>5</td>\n",
       "      <td>Yes</td>\n",
       "    </tr>\n",
       "  </tbody>\n",
       "</table>\n",
       "</div>"
      ],
      "text/plain": [
       "   Enough  Hours PhoneReach PhoneTime  Tired Breakfast\n",
       "47     No    5.0         No        No      5       Yes\n",
       "73     No    6.0         No       Yes      5       Yes\n",
       "86     No    9.0         No       Yes      5       Yes"
      ]
     },
     "execution_count": 55,
     "metadata": {},
     "output_type": "execute_result"
    }
   ],
   "source": [
    "get_br_and_tired = (sleep_data[\"Breakfast\"] == \"Yes\") & (sleep_data[\"Tired\"] == 5)\n",
    "\n",
    "result_get_br_and_tired = sleep_data[get_br_and_tired]\n",
    "result_get_br_and_tired.head()"
   ]
  },
  {
   "cell_type": "code",
   "execution_count": 56,
   "metadata": {},
   "outputs": [
    {
     "data": {
      "text/html": [
       "<div>\n",
       "<style scoped>\n",
       "    .dataframe tbody tr th:only-of-type {\n",
       "        vertical-align: middle;\n",
       "    }\n",
       "\n",
       "    .dataframe tbody tr th {\n",
       "        vertical-align: top;\n",
       "    }\n",
       "\n",
       "    .dataframe thead th {\n",
       "        text-align: right;\n",
       "    }\n",
       "</style>\n",
       "<table border=\"1\" class=\"dataframe\">\n",
       "  <thead>\n",
       "    <tr style=\"text-align: right;\">\n",
       "      <th></th>\n",
       "      <th>Enough</th>\n",
       "      <th>Hours</th>\n",
       "      <th>PhoneReach</th>\n",
       "      <th>PhoneTime</th>\n",
       "      <th>Tired</th>\n",
       "      <th>Breakfast</th>\n",
       "    </tr>\n",
       "  </thead>\n",
       "  <tbody>\n",
       "    <tr>\n",
       "      <th>20</th>\n",
       "      <td>No</td>\n",
       "      <td>2.0</td>\n",
       "      <td>Yes</td>\n",
       "      <td>Yes</td>\n",
       "      <td>5</td>\n",
       "      <td>No</td>\n",
       "    </tr>\n",
       "    <tr>\n",
       "      <th>25</th>\n",
       "      <td>No</td>\n",
       "      <td>7.0</td>\n",
       "      <td>No</td>\n",
       "      <td>Yes</td>\n",
       "      <td>5</td>\n",
       "      <td>No</td>\n",
       "    </tr>\n",
       "    <tr>\n",
       "      <th>38</th>\n",
       "      <td>No</td>\n",
       "      <td>5.0</td>\n",
       "      <td>Yes</td>\n",
       "      <td>No</td>\n",
       "      <td>5</td>\n",
       "      <td>No</td>\n",
       "    </tr>\n",
       "    <tr>\n",
       "      <th>44</th>\n",
       "      <td>No</td>\n",
       "      <td>4.0</td>\n",
       "      <td>No</td>\n",
       "      <td>No</td>\n",
       "      <td>5</td>\n",
       "      <td>No</td>\n",
       "    </tr>\n",
       "    <tr>\n",
       "      <th>57</th>\n",
       "      <td>No</td>\n",
       "      <td>9.0</td>\n",
       "      <td>No</td>\n",
       "      <td>Yes</td>\n",
       "      <td>5</td>\n",
       "      <td>No</td>\n",
       "    </tr>\n",
       "  </tbody>\n",
       "</table>\n",
       "</div>"
      ],
      "text/plain": [
       "   Enough  Hours PhoneReach PhoneTime  Tired Breakfast\n",
       "20     No    2.0        Yes       Yes      5        No\n",
       "25     No    7.0         No       Yes      5        No\n",
       "38     No    5.0        Yes        No      5        No\n",
       "44     No    4.0         No        No      5        No\n",
       "57     No    9.0         No       Yes      5        No"
      ]
     },
     "execution_count": 56,
     "metadata": {},
     "output_type": "execute_result"
    }
   ],
   "source": [
    "no_br_and_tired = (sleep_data[\"Breakfast\"] == \"No\") & (sleep_data[\"Tired\"] == 5)\n",
    "\n",
    "result_no_br_and_tired = sleep_data[no_br_and_tired]\n",
    "result_no_br_and_tired.head()"
   ]
  },
  {
   "cell_type": "markdown",
   "metadata": {},
   "source": [
    "compare the data"
   ]
  },
  {
   "cell_type": "code",
   "execution_count": 57,
   "metadata": {},
   "outputs": [
    {
     "name": "stdout",
     "output_type": "stream",
     "text": [
      "<class 'pandas.core.frame.DataFrame'>\n",
      "Index: 7 entries, 20 to 63\n",
      "Data columns (total 6 columns):\n",
      " #   Column      Non-Null Count  Dtype  \n",
      "---  ------      --------------  -----  \n",
      " 0   Enough      7 non-null      object \n",
      " 1   Hours       7 non-null      float64\n",
      " 2   PhoneReach  7 non-null      object \n",
      " 3   PhoneTime   7 non-null      object \n",
      " 4   Tired       7 non-null      int64  \n",
      " 5   Breakfast   7 non-null      object \n",
      "dtypes: float64(1), int64(1), object(4)\n",
      "memory usage: 392.0+ bytes\n"
     ]
    }
   ],
   "source": [
    "result_no_br_and_tired.info()"
   ]
  },
  {
   "cell_type": "code",
   "execution_count": 58,
   "metadata": {},
   "outputs": [
    {
     "name": "stdout",
     "output_type": "stream",
     "text": [
      "<class 'pandas.core.frame.DataFrame'>\n",
      "Index: 3 entries, 47 to 86\n",
      "Data columns (total 6 columns):\n",
      " #   Column      Non-Null Count  Dtype  \n",
      "---  ------      --------------  -----  \n",
      " 0   Enough      3 non-null      object \n",
      " 1   Hours       3 non-null      float64\n",
      " 2   PhoneReach  3 non-null      object \n",
      " 3   PhoneTime   3 non-null      object \n",
      " 4   Tired       3 non-null      int64  \n",
      " 5   Breakfast   3 non-null      object \n",
      "dtypes: float64(1), int64(1), object(4)\n",
      "memory usage: 168.0+ bytes\n"
     ]
    }
   ],
   "source": [
    "result_get_br_and_tired.info()"
   ]
  },
  {
   "cell_type": "markdown",
   "metadata": {},
   "source": [
    "Now we compare the quality of sleep with telephone use before sleep "
   ]
  },
  {
   "cell_type": "code",
   "execution_count": 59,
   "metadata": {},
   "outputs": [
    {
     "data": {
      "text/html": [
       "<div>\n",
       "<style scoped>\n",
       "    .dataframe tbody tr th:only-of-type {\n",
       "        vertical-align: middle;\n",
       "    }\n",
       "\n",
       "    .dataframe tbody tr th {\n",
       "        vertical-align: top;\n",
       "    }\n",
       "\n",
       "    .dataframe thead th {\n",
       "        text-align: right;\n",
       "    }\n",
       "</style>\n",
       "<table border=\"1\" class=\"dataframe\">\n",
       "  <thead>\n",
       "    <tr style=\"text-align: right;\">\n",
       "      <th></th>\n",
       "      <th>Enough</th>\n",
       "      <th>Hours</th>\n",
       "      <th>PhoneReach</th>\n",
       "      <th>PhoneTime</th>\n",
       "      <th>Tired</th>\n",
       "      <th>Breakfast</th>\n",
       "    </tr>\n",
       "  </thead>\n",
       "  <tbody>\n",
       "    <tr>\n",
       "      <th>1</th>\n",
       "      <td>No</td>\n",
       "      <td>6.0</td>\n",
       "      <td>Yes</td>\n",
       "      <td>Yes</td>\n",
       "      <td>3</td>\n",
       "      <td>No</td>\n",
       "    </tr>\n",
       "    <tr>\n",
       "      <th>3</th>\n",
       "      <td>No</td>\n",
       "      <td>7.0</td>\n",
       "      <td>Yes</td>\n",
       "      <td>Yes</td>\n",
       "      <td>4</td>\n",
       "      <td>No</td>\n",
       "    </tr>\n",
       "    <tr>\n",
       "      <th>4</th>\n",
       "      <td>No</td>\n",
       "      <td>7.0</td>\n",
       "      <td>Yes</td>\n",
       "      <td>Yes</td>\n",
       "      <td>2</td>\n",
       "      <td>Yes</td>\n",
       "    </tr>\n",
       "    <tr>\n",
       "      <th>5</th>\n",
       "      <td>No</td>\n",
       "      <td>7.0</td>\n",
       "      <td>Yes</td>\n",
       "      <td>Yes</td>\n",
       "      <td>4</td>\n",
       "      <td>No</td>\n",
       "    </tr>\n",
       "    <tr>\n",
       "      <th>7</th>\n",
       "      <td>No</td>\n",
       "      <td>7.0</td>\n",
       "      <td>Yes</td>\n",
       "      <td>Yes</td>\n",
       "      <td>3</td>\n",
       "      <td>Yes</td>\n",
       "    </tr>\n",
       "  </tbody>\n",
       "</table>\n",
       "</div>"
      ],
      "text/plain": [
       "  Enough  Hours PhoneReach PhoneTime  Tired Breakfast\n",
       "1     No    6.0        Yes       Yes      3        No\n",
       "3     No    7.0        Yes       Yes      4        No\n",
       "4     No    7.0        Yes       Yes      2       Yes\n",
       "5     No    7.0        Yes       Yes      4        No\n",
       "7     No    7.0        Yes       Yes      3       Yes"
      ]
     },
     "execution_count": 59,
     "metadata": {},
     "output_type": "execute_result"
    }
   ],
   "source": [
    "sleep_with_phonetime = (sleep_data[\"Enough\"] == \"No\") & (sleep_data[\"PhoneTime\"] == \"Yes\")\n",
    "\n",
    "a_sleep_with_phonetime = sleep_data[sleep_with_phonetime]\n",
    "a_sleep_with_phonetime.head()"
   ]
  },
  {
   "cell_type": "code",
   "execution_count": 60,
   "metadata": {},
   "outputs": [
    {
     "data": {
      "text/html": [
       "<div>\n",
       "<style scoped>\n",
       "    .dataframe tbody tr th:only-of-type {\n",
       "        vertical-align: middle;\n",
       "    }\n",
       "\n",
       "    .dataframe tbody tr th {\n",
       "        vertical-align: top;\n",
       "    }\n",
       "\n",
       "    .dataframe thead th {\n",
       "        text-align: right;\n",
       "    }\n",
       "</style>\n",
       "<table border=\"1\" class=\"dataframe\">\n",
       "  <thead>\n",
       "    <tr style=\"text-align: right;\">\n",
       "      <th></th>\n",
       "      <th>Enough</th>\n",
       "      <th>Hours</th>\n",
       "      <th>PhoneReach</th>\n",
       "      <th>PhoneTime</th>\n",
       "      <th>Tired</th>\n",
       "      <th>Breakfast</th>\n",
       "    </tr>\n",
       "  </thead>\n",
       "  <tbody>\n",
       "    <tr>\n",
       "      <th>0</th>\n",
       "      <td>Yes</td>\n",
       "      <td>8.0</td>\n",
       "      <td>Yes</td>\n",
       "      <td>Yes</td>\n",
       "      <td>3</td>\n",
       "      <td>Yes</td>\n",
       "    </tr>\n",
       "    <tr>\n",
       "      <th>2</th>\n",
       "      <td>Yes</td>\n",
       "      <td>6.0</td>\n",
       "      <td>Yes</td>\n",
       "      <td>Yes</td>\n",
       "      <td>2</td>\n",
       "      <td>Yes</td>\n",
       "    </tr>\n",
       "    <tr>\n",
       "      <th>6</th>\n",
       "      <td>Yes</td>\n",
       "      <td>7.0</td>\n",
       "      <td>Yes</td>\n",
       "      <td>Yes</td>\n",
       "      <td>3</td>\n",
       "      <td>Yes</td>\n",
       "    </tr>\n",
       "    <tr>\n",
       "      <th>12</th>\n",
       "      <td>Yes</td>\n",
       "      <td>7.0</td>\n",
       "      <td>Yes</td>\n",
       "      <td>Yes</td>\n",
       "      <td>3</td>\n",
       "      <td>No</td>\n",
       "    </tr>\n",
       "    <tr>\n",
       "      <th>13</th>\n",
       "      <td>Yes</td>\n",
       "      <td>8.0</td>\n",
       "      <td>Yes</td>\n",
       "      <td>Yes</td>\n",
       "      <td>2</td>\n",
       "      <td>No</td>\n",
       "    </tr>\n",
       "  </tbody>\n",
       "</table>\n",
       "</div>"
      ],
      "text/plain": [
       "   Enough  Hours PhoneReach PhoneTime  Tired Breakfast\n",
       "0     Yes    8.0        Yes       Yes      3       Yes\n",
       "2     Yes    6.0        Yes       Yes      2       Yes\n",
       "6     Yes    7.0        Yes       Yes      3       Yes\n",
       "12    Yes    7.0        Yes       Yes      3        No\n",
       "13    Yes    8.0        Yes       Yes      2        No"
      ]
     },
     "execution_count": 60,
     "metadata": {},
     "output_type": "execute_result"
    }
   ],
   "source": [
    "esleep_with_phonetime = (sleep_data[\"Enough\"] == \"Yes\") & (sleep_data[\"PhoneTime\"] == \"Yes\")\n",
    "\n",
    "a_esleep_with_phonetime = sleep_data[esleep_with_phonetime]\n",
    "a_esleep_with_phonetime.head()"
   ]
  },
  {
   "cell_type": "code",
   "execution_count": 61,
   "metadata": {},
   "outputs": [
    {
     "name": "stdout",
     "output_type": "stream",
     "text": [
      "<class 'pandas.core.frame.DataFrame'>\n",
      "Index: 55 entries, 1 to 100\n",
      "Data columns (total 6 columns):\n",
      " #   Column      Non-Null Count  Dtype  \n",
      "---  ------      --------------  -----  \n",
      " 0   Enough      55 non-null     object \n",
      " 1   Hours       55 non-null     float64\n",
      " 2   PhoneReach  55 non-null     object \n",
      " 3   PhoneTime   55 non-null     object \n",
      " 4   Tired       55 non-null     int64  \n",
      " 5   Breakfast   55 non-null     object \n",
      "dtypes: float64(1), int64(1), object(4)\n",
      "memory usage: 3.0+ KB\n"
     ]
    }
   ],
   "source": [
    "a_sleep_with_phonetime.info()"
   ]
  },
  {
   "cell_type": "code",
   "execution_count": 62,
   "metadata": {},
   "outputs": [
    {
     "name": "stdout",
     "output_type": "stream",
     "text": [
      "<class 'pandas.core.frame.DataFrame'>\n",
      "Index: 29 entries, 0 to 103\n",
      "Data columns (total 6 columns):\n",
      " #   Column      Non-Null Count  Dtype  \n",
      "---  ------      --------------  -----  \n",
      " 0   Enough      29 non-null     object \n",
      " 1   Hours       28 non-null     float64\n",
      " 2   PhoneReach  29 non-null     object \n",
      " 3   PhoneTime   29 non-null     object \n",
      " 4   Tired       29 non-null     int64  \n",
      " 5   Breakfast   29 non-null     object \n",
      "dtypes: float64(1), int64(1), object(4)\n",
      "memory usage: 1.6+ KB\n"
     ]
    }
   ],
   "source": [
    "a_esleep_with_phonetime.info()"
   ]
  },
  {
   "cell_type": "markdown",
   "metadata": {},
   "source": [
    "Here we see, that who sleeps after the telephone usage sleeps worther (55 Persons) as one who sleeps without telephone usage before sleep (29 Person)"
   ]
  },
  {
   "cell_type": "code",
   "execution_count": 63,
   "metadata": {},
   "outputs": [
    {
     "name": "stdout",
     "output_type": "stream",
     "text": [
      "Enough  PhoneTime\n",
      "No      Yes          55\n",
      "Yes     Yes          29\n",
      "No      No           13\n",
      "Yes     No            7\n",
      "Name: count, dtype: int64\n"
     ]
    }
   ],
   "source": [
    "value_counts_result = sleep_data[[\"Enough\", \"PhoneTime\"]].value_counts()\n",
    "print(value_counts_result)"
   ]
  },
  {
   "cell_type": "code",
   "execution_count": 67,
   "metadata": {},
   "outputs": [
    {
     "name": "stdout",
     "output_type": "stream",
     "text": [
      "Hours\n",
      "7.0     35\n",
      "6.0     24\n",
      "8.0     16\n",
      "5.0     12\n",
      "9.0      8\n",
      "4.0      4\n",
      "2.0      2\n",
      "10.0     1\n",
      "Name: count, dtype: int64\n"
     ]
    }
   ],
   "source": [
    "sleeping_houres = sleep_data[\"Hours\"].value_counts()\n",
    "print(sleeping_houres)"
   ]
  },
  {
   "cell_type": "markdown",
   "metadata": {},
   "source": [
    "Lets see if a persons that slept 5 - 9 houres feels well slept?"
   ]
  },
  {
   "cell_type": "code",
   "execution_count": 71,
   "metadata": {},
   "outputs": [
    {
     "name": "stdout",
     "output_type": "stream",
     "text": [
      "<class 'pandas.core.frame.DataFrame'>\n",
      "Index: 0 entries\n",
      "Data columns (total 6 columns):\n",
      " #   Column      Non-Null Count  Dtype  \n",
      "---  ------      --------------  -----  \n",
      " 0   Enough      0 non-null      object \n",
      " 1   Hours       0 non-null      float64\n",
      " 2   PhoneReach  0 non-null      object \n",
      " 3   PhoneTime   0 non-null      object \n",
      " 4   Tired       0 non-null      int64  \n",
      " 5   Breakfast   0 non-null      object \n",
      "dtypes: float64(1), int64(1), object(4)\n",
      "memory usage: 0.0+ bytes\n"
     ]
    }
   ],
   "source": [
    "sleepenough_hours = (sleep_data[\"Enough\"] == \"Yes\") & (sleep_data[\"Hours\"] == 5)\n",
    "a_sleepenought_hours_5 = sleep_data[sleepenough_hours]\n",
    "a_sleepenought_hours_5.info()"
   ]
  },
  {
   "cell_type": "markdown",
   "metadata": {},
   "source": [
    "Here we see, that no one of all 12 Person who slept 5 houres get enough sleep. "
   ]
  },
  {
   "cell_type": "code",
   "execution_count": 72,
   "metadata": {},
   "outputs": [
    {
     "name": "stdout",
     "output_type": "stream",
     "text": [
      "<class 'pandas.core.frame.DataFrame'>\n",
      "Index: 6 entries, 2 to 103\n",
      "Data columns (total 6 columns):\n",
      " #   Column      Non-Null Count  Dtype  \n",
      "---  ------      --------------  -----  \n",
      " 0   Enough      6 non-null      object \n",
      " 1   Hours       6 non-null      float64\n",
      " 2   PhoneReach  6 non-null      object \n",
      " 3   PhoneTime   6 non-null      object \n",
      " 4   Tired       6 non-null      int64  \n",
      " 5   Breakfast   6 non-null      object \n",
      "dtypes: float64(1), int64(1), object(4)\n",
      "memory usage: 336.0+ bytes\n"
     ]
    }
   ],
   "source": [
    "sleepenough_hours = (sleep_data[\"Enough\"] == \"Yes\") & (sleep_data[\"Hours\"] == 6)\n",
    "a_sleepenought_hours_6 = sleep_data[sleepenough_hours]\n",
    "a_sleepenought_hours_6.info()"
   ]
  },
  {
   "cell_type": "markdown",
   "metadata": {},
   "source": [
    "Here just 6 Person from 24 Persons feel gut after sleeping 6 houres. It is just 25%. "
   ]
  },
  {
   "cell_type": "code",
   "execution_count": 73,
   "metadata": {},
   "outputs": [
    {
     "name": "stdout",
     "output_type": "stream",
     "text": [
      "<class 'pandas.core.frame.DataFrame'>\n",
      "Index: 13 entries, 6 to 102\n",
      "Data columns (total 6 columns):\n",
      " #   Column      Non-Null Count  Dtype  \n",
      "---  ------      --------------  -----  \n",
      " 0   Enough      13 non-null     object \n",
      " 1   Hours       13 non-null     float64\n",
      " 2   PhoneReach  13 non-null     object \n",
      " 3   PhoneTime   13 non-null     object \n",
      " 4   Tired       13 non-null     int64  \n",
      " 5   Breakfast   13 non-null     object \n",
      "dtypes: float64(1), int64(1), object(4)\n",
      "memory usage: 728.0+ bytes\n"
     ]
    }
   ],
   "source": [
    "sleepenough_hours = (sleep_data[\"Enough\"] == \"Yes\") & (sleep_data[\"Hours\"] == 7)\n",
    "a_sleepenought_hours_7 = sleep_data[sleepenough_hours]\n",
    "a_sleepenought_hours_7.info()"
   ]
  },
  {
   "cell_type": "markdown",
   "metadata": {},
   "source": [
    "Here we see, the instead of the most spreaded time for sleep, just 30% of all 7hours sleepers feel slept enough"
   ]
  },
  {
   "cell_type": "code",
   "execution_count": 74,
   "metadata": {},
   "outputs": [
    {
     "name": "stdout",
     "output_type": "stream",
     "text": [
      "<class 'pandas.core.frame.DataFrame'>\n",
      "Index: 12 entries, 0 to 101\n",
      "Data columns (total 6 columns):\n",
      " #   Column      Non-Null Count  Dtype  \n",
      "---  ------      --------------  -----  \n",
      " 0   Enough      12 non-null     object \n",
      " 1   Hours       12 non-null     float64\n",
      " 2   PhoneReach  12 non-null     object \n",
      " 3   PhoneTime   12 non-null     object \n",
      " 4   Tired       12 non-null     int64  \n",
      " 5   Breakfast   12 non-null     object \n",
      "dtypes: float64(1), int64(1), object(4)\n",
      "memory usage: 672.0+ bytes\n"
     ]
    }
   ],
   "source": [
    "sleepenough_hours = (sleep_data[\"Enough\"] == \"Yes\") & (sleep_data[\"Hours\"] == 8)\n",
    "a_sleepenought_hours_8 = sleep_data[sleepenough_hours]\n",
    "a_sleepenought_hours_8.info()"
   ]
  },
  {
   "cell_type": "code",
   "execution_count": 92,
   "metadata": {},
   "outputs": [
    {
     "data": {
      "text/plain": [
       "<matplotlib.legend.Legend at 0x2b984d90d50>"
      ]
     },
     "execution_count": 92,
     "metadata": {},
     "output_type": "execute_result"
    },
    {
     "data": {
      "image/png": "[encoded data removed]",
      "text/plain": [
       "<Figure size 640x480 with 1 Axes>"
      ]
     },
     "metadata": {},
     "output_type": "display_data"
    }
   ],
   "source": [
    "# Extract the 'Hours' and 'Enough' columns\n",
    "sleeping_hours = sleep_data['Hours']\n",
    "enough_sleeping = sleep_data['Enough']\n",
    "\n",
    "# Reset the index of the Series\n",
    "sleeping_hours_reseted = sleeping_hours.reset_index()\n",
    "enough_sleeping_reseted = enough_sleeping.reset_index()\n",
    "\n",
    "# Rename the columns for clarity\n",
    "sleeping_hours_reseted.columns = ['Index', 'Hours']\n",
    "enough_sleeping_reseted.columns = ['Index', 'Enough']\n",
    "\n",
    "# Group by the 'Hours' and count the occurrences\n",
    "grouped_sleep_data = sleeping_hours_reseted.groupby('Hours').count().reset_index()\n",
    "\n",
    "# Sort the DataFrame by 'Hours' in descending order\n",
    "grouped_sleep_data = grouped_sleep_data.sort_values(by='Hours', ascending=False)\n",
    "\n",
    "# Plotting the grouped data\n",
    "plt.bar(grouped_sleep_data['Hours'], grouped_sleep_data['Index'], color='skyblue', label='Number of People - Hours')\n",
    "\n",
    "# Add a second set of bars for 'Enough'\n",
    "plt.bar(enough_sleeping_reseted['Enough'], enough_sleeping_reseted['Index'] + 5, color='orange', label='Number of People - Enough Sleep')\n",
    "\n",
    "plt.xlabel('Hours of Sleep / Enough Sleep')\n",
    "plt.ylabel('Number of People')\n",
    "plt.title('Summarized Distribution of Sleep Hours (Descending Order)')\n",
    "plt.legend()\n"
   ]
  },
  {
   "cell_type": "code",
   "execution_count": 98,
   "metadata": {},
   "outputs": [
    {
     "ename": "ValueError",
     "evalue": "invalid literal for int() with base 10: '10.0'",
     "output_type": "error",
     "traceback": [
      "\u001b[1;31m---------------------------------------------------------------------------\u001b[0m",
      "\u001b[1;31mValueError\u001b[0m                                Traceback (most recent call last)",
      "Cell \u001b[1;32mIn[98], line 19\u001b[0m\n\u001b[0;32m     16\u001b[0m enough_data \u001b[38;5;241m=\u001b[39m combined_data_counts[combined_data_counts[\u001b[38;5;124m'\u001b[39m\u001b[38;5;124mindex\u001b[39m\u001b[38;5;124m'\u001b[39m]\u001b[38;5;241m.\u001b[39mstr\u001b[38;5;241m.\u001b[39mcontains(\u001b[38;5;124m'\u001b[39m\u001b[38;5;124mEnough\u001b[39m\u001b[38;5;124m'\u001b[39m)]\u001b[38;5;241m.\u001b[39mreset_index(drop\u001b[38;5;241m=\u001b[39m\u001b[38;5;28;01mTrue\u001b[39;00m)\n\u001b[0;32m     18\u001b[0m \u001b[38;5;66;03m# Plotting the grouped data with different colors\u001b[39;00m\n\u001b[1;32m---> 19\u001b[0m plt\u001b[38;5;241m.\u001b[39mbar(hours_data\u001b[38;5;241m.\u001b[39mindex, \u001b[43mhours_data\u001b[49m\u001b[43m[\u001b[49m\u001b[38;5;124;43m'\u001b[39;49m\u001b[38;5;124;43mindex\u001b[39;49m\u001b[38;5;124;43m'\u001b[39;49m\u001b[43m]\u001b[49m\u001b[38;5;241;43m.\u001b[39;49m\u001b[43mapply\u001b[49m\u001b[43m(\u001b[49m\u001b[38;5;28;43;01mlambda\u001b[39;49;00m\u001b[43m \u001b[49m\u001b[43mx\u001b[49m\u001b[43m:\u001b[49m\u001b[43m \u001b[49m\u001b[38;5;28;43mint\u001b[39;49m\u001b[43m(\u001b[49m\u001b[43mx\u001b[49m\u001b[38;5;241;43m.\u001b[39;49m\u001b[43msplit\u001b[49m\u001b[43m(\u001b[49m\u001b[43m)\u001b[49m\u001b[43m[\u001b[49m\u001b[38;5;241;43m0\u001b[39;49m\u001b[43m]\u001b[49m\u001b[43m)\u001b[49m\u001b[43m)\u001b[49m, color\u001b[38;5;241m=\u001b[39m\u001b[38;5;124m'\u001b[39m\u001b[38;5;124mskyblue\u001b[39m\u001b[38;5;124m'\u001b[39m, label\u001b[38;5;241m=\u001b[39m\u001b[38;5;124m'\u001b[39m\u001b[38;5;124mHours of Sleep\u001b[39m\u001b[38;5;124m'\u001b[39m)\n\u001b[0;32m     20\u001b[0m plt\u001b[38;5;241m.\u001b[39mbar(enough_data\u001b[38;5;241m.\u001b[39mindex, enough_data[\u001b[38;5;124m'\u001b[39m\u001b[38;5;124mindex\u001b[39m\u001b[38;5;124m'\u001b[39m]\u001b[38;5;241m.\u001b[39mapply(\u001b[38;5;28;01mlambda\u001b[39;00m x: \u001b[38;5;28mint\u001b[39m(x\u001b[38;5;241m.\u001b[39msplit()[\u001b[38;5;241m0\u001b[39m])), color\u001b[38;5;241m=\u001b[39m\u001b[38;5;124m'\u001b[39m\u001b[38;5;124morange\u001b[39m\u001b[38;5;124m'\u001b[39m, label\u001b[38;5;241m=\u001b[39m\u001b[38;5;124m'\u001b[39m\u001b[38;5;124mEnough Sleep\u001b[39m\u001b[38;5;124m'\u001b[39m)\n\u001b[0;32m     22\u001b[0m plt\u001b[38;5;241m.\u001b[39mylabel(\u001b[38;5;124m'\u001b[39m\u001b[38;5;124mHours of Sleep and Enough Sleep\u001b[39m\u001b[38;5;124m'\u001b[39m)\n",
      "File \u001b[1;32m~\\AppData\\Local\\Packages\\PythonSoftwareFoundation.Python.3.11_qbz5n2kfra8p0\\LocalCache\\local-packages\\Python311\\site-packages\\pandas\\core\\series.py:4904\u001b[0m, in \u001b[0;36mSeries.apply\u001b[1;34m(self, func, convert_dtype, args, by_row, **kwargs)\u001b[0m\n\u001b[0;32m   4769\u001b[0m \u001b[38;5;28;01mdef\u001b[39;00m \u001b[38;5;21mapply\u001b[39m(\n\u001b[0;32m   4770\u001b[0m     \u001b[38;5;28mself\u001b[39m,\n\u001b[0;32m   4771\u001b[0m     func: AggFuncType,\n\u001b[1;32m   (...)\u001b[0m\n\u001b[0;32m   4776\u001b[0m     \u001b[38;5;241m*\u001b[39m\u001b[38;5;241m*\u001b[39mkwargs,\n\u001b[0;32m   4777\u001b[0m ) \u001b[38;5;241m-\u001b[39m\u001b[38;5;241m>\u001b[39m DataFrame \u001b[38;5;241m|\u001b[39m Series:\n\u001b[0;32m   4778\u001b[0m \u001b[38;5;250m    \u001b[39m\u001b[38;5;124;03m\"\"\"\u001b[39;00m\n\u001b[0;32m   4779\u001b[0m \u001b[38;5;124;03m    Invoke function on values of Series.\u001b[39;00m\n\u001b[0;32m   4780\u001b[0m \n\u001b[1;32m   (...)\u001b[0m\n\u001b[0;32m   4895\u001b[0m \u001b[38;5;124;03m    dtype: float64\u001b[39;00m\n\u001b[0;32m   4896\u001b[0m \u001b[38;5;124;03m    \"\"\"\u001b[39;00m\n\u001b[0;32m   4897\u001b[0m     \u001b[38;5;28;01mreturn\u001b[39;00m \u001b[43mSeriesApply\u001b[49m\u001b[43m(\u001b[49m\n\u001b[0;32m   4898\u001b[0m \u001b[43m        \u001b[49m\u001b[38;5;28;43mself\u001b[39;49m\u001b[43m,\u001b[49m\n\u001b[0;32m   4899\u001b[0m \u001b[43m        \u001b[49m\u001b[43mfunc\u001b[49m\u001b[43m,\u001b[49m\n\u001b[0;32m   4900\u001b[0m \u001b[43m        \u001b[49m\u001b[43mconvert_dtype\u001b[49m\u001b[38;5;241;43m=\u001b[39;49m\u001b[43mconvert_dtype\u001b[49m\u001b[43m,\u001b[49m\n\u001b[0;32m   4901\u001b[0m \u001b[43m        \u001b[49m\u001b[43mby_row\u001b[49m\u001b[38;5;241;43m=\u001b[39;49m\u001b[43mby_row\u001b[49m\u001b[43m,\u001b[49m\n\u001b[0;32m   4902\u001b[0m \u001b[43m        \u001b[49m\u001b[43margs\u001b[49m\u001b[38;5;241;43m=\u001b[39;49m\u001b[43margs\u001b[49m\u001b[43m,\u001b[49m\n\u001b[0;32m   4903\u001b[0m \u001b[43m        \u001b[49m\u001b[43mkwargs\u001b[49m\u001b[38;5;241;43m=\u001b[39;49m\u001b[43mkwargs\u001b[49m\u001b[43m,\u001b[49m\n\u001b[1;32m-> 4904\u001b[0m \u001b[43m    \u001b[49m\u001b[43m)\u001b[49m\u001b[38;5;241;43m.\u001b[39;49m\u001b[43mapply\u001b[49m\u001b[43m(\u001b[49m\u001b[43m)\u001b[49m\n",
      "File \u001b[1;32m~\\AppData\\Local\\Packages\\PythonSoftwareFoundation.Python.3.11_qbz5n2kfra8p0\\LocalCache\\local-packages\\Python311\\site-packages\\pandas\\core\\apply.py:1427\u001b[0m, in \u001b[0;36mSeriesApply.apply\u001b[1;34m(self)\u001b[0m\n\u001b[0;32m   1424\u001b[0m     \u001b[38;5;28;01mreturn\u001b[39;00m \u001b[38;5;28mself\u001b[39m\u001b[38;5;241m.\u001b[39mapply_compat()\n\u001b[0;32m   1426\u001b[0m \u001b[38;5;66;03m# self.func is Callable\u001b[39;00m\n\u001b[1;32m-> 1427\u001b[0m \u001b[38;5;28;01mreturn\u001b[39;00m \u001b[38;5;28;43mself\u001b[39;49m\u001b[38;5;241;43m.\u001b[39;49m\u001b[43mapply_standard\u001b[49m\u001b[43m(\u001b[49m\u001b[43m)\u001b[49m\n",
      "File \u001b[1;32m~\\AppData\\Local\\Packages\\PythonSoftwareFoundation.Python.3.11_qbz5n2kfra8p0\\LocalCache\\local-packages\\Python311\\site-packages\\pandas\\core\\apply.py:1507\u001b[0m, in \u001b[0;36mSeriesApply.apply_standard\u001b[1;34m(self)\u001b[0m\n\u001b[0;32m   1501\u001b[0m \u001b[38;5;66;03m# row-wise access\u001b[39;00m\n\u001b[0;32m   1502\u001b[0m \u001b[38;5;66;03m# apply doesn't have a `na_action` keyword and for backward compat reasons\u001b[39;00m\n\u001b[0;32m   1503\u001b[0m \u001b[38;5;66;03m# we need to give `na_action=\"ignore\"` for categorical data.\u001b[39;00m\n\u001b[0;32m   1504\u001b[0m \u001b[38;5;66;03m# TODO: remove the `na_action=\"ignore\"` when that default has been changed in\u001b[39;00m\n\u001b[0;32m   1505\u001b[0m \u001b[38;5;66;03m#  Categorical (GH51645).\u001b[39;00m\n\u001b[0;32m   1506\u001b[0m action \u001b[38;5;241m=\u001b[39m \u001b[38;5;124m\"\u001b[39m\u001b[38;5;124mignore\u001b[39m\u001b[38;5;124m\"\u001b[39m \u001b[38;5;28;01mif\u001b[39;00m \u001b[38;5;28misinstance\u001b[39m(obj\u001b[38;5;241m.\u001b[39mdtype, CategoricalDtype) \u001b[38;5;28;01melse\u001b[39;00m \u001b[38;5;28;01mNone\u001b[39;00m\n\u001b[1;32m-> 1507\u001b[0m mapped \u001b[38;5;241m=\u001b[39m \u001b[43mobj\u001b[49m\u001b[38;5;241;43m.\u001b[39;49m\u001b[43m_map_values\u001b[49m\u001b[43m(\u001b[49m\n\u001b[0;32m   1508\u001b[0m \u001b[43m    \u001b[49m\u001b[43mmapper\u001b[49m\u001b[38;5;241;43m=\u001b[39;49m\u001b[43mcurried\u001b[49m\u001b[43m,\u001b[49m\u001b[43m \u001b[49m\u001b[43mna_action\u001b[49m\u001b[38;5;241;43m=\u001b[39;49m\u001b[43maction\u001b[49m\u001b[43m,\u001b[49m\u001b[43m \u001b[49m\u001b[43mconvert\u001b[49m\u001b[38;5;241;43m=\u001b[39;49m\u001b[38;5;28;43mself\u001b[39;49m\u001b[38;5;241;43m.\u001b[39;49m\u001b[43mconvert_dtype\u001b[49m\n\u001b[0;32m   1509\u001b[0m \u001b[43m\u001b[49m\u001b[43m)\u001b[49m\n\u001b[0;32m   1511\u001b[0m \u001b[38;5;28;01mif\u001b[39;00m \u001b[38;5;28mlen\u001b[39m(mapped) \u001b[38;5;129;01mand\u001b[39;00m \u001b[38;5;28misinstance\u001b[39m(mapped[\u001b[38;5;241m0\u001b[39m], ABCSeries):\n\u001b[0;32m   1512\u001b[0m     \u001b[38;5;66;03m# GH#43986 Need to do list(mapped) in order to get treated as nested\u001b[39;00m\n\u001b[0;32m   1513\u001b[0m     \u001b[38;5;66;03m#  See also GH#25959 regarding EA support\u001b[39;00m\n\u001b[0;32m   1514\u001b[0m     \u001b[38;5;28;01mreturn\u001b[39;00m obj\u001b[38;5;241m.\u001b[39m_constructor_expanddim(\u001b[38;5;28mlist\u001b[39m(mapped), index\u001b[38;5;241m=\u001b[39mobj\u001b[38;5;241m.\u001b[39mindex)\n",
      "File \u001b[1;32m~\\AppData\\Local\\Packages\\PythonSoftwareFoundation.Python.3.11_qbz5n2kfra8p0\\LocalCache\\local-packages\\Python311\\site-packages\\pandas\\core\\base.py:921\u001b[0m, in \u001b[0;36mIndexOpsMixin._map_values\u001b[1;34m(self, mapper, na_action, convert)\u001b[0m\n\u001b[0;32m    918\u001b[0m \u001b[38;5;28;01mif\u001b[39;00m \u001b[38;5;28misinstance\u001b[39m(arr, ExtensionArray):\n\u001b[0;32m    919\u001b[0m     \u001b[38;5;28;01mreturn\u001b[39;00m arr\u001b[38;5;241m.\u001b[39mmap(mapper, na_action\u001b[38;5;241m=\u001b[39mna_action)\n\u001b[1;32m--> 921\u001b[0m \u001b[38;5;28;01mreturn\u001b[39;00m \u001b[43malgorithms\u001b[49m\u001b[38;5;241;43m.\u001b[39;49m\u001b[43mmap_array\u001b[49m\u001b[43m(\u001b[49m\u001b[43marr\u001b[49m\u001b[43m,\u001b[49m\u001b[43m \u001b[49m\u001b[43mmapper\u001b[49m\u001b[43m,\u001b[49m\u001b[43m \u001b[49m\u001b[43mna_action\u001b[49m\u001b[38;5;241;43m=\u001b[39;49m\u001b[43mna_action\u001b[49m\u001b[43m,\u001b[49m\u001b[43m \u001b[49m\u001b[43mconvert\u001b[49m\u001b[38;5;241;43m=\u001b[39;49m\u001b[43mconvert\u001b[49m\u001b[43m)\u001b[49m\n",
      "File \u001b[1;32m~\\AppData\\Local\\Packages\\PythonSoftwareFoundation.Python.3.11_qbz5n2kfra8p0\\LocalCache\\local-packages\\Python311\\site-packages\\pandas\\core\\algorithms.py:1743\u001b[0m, in \u001b[0;36mmap_array\u001b[1;34m(arr, mapper, na_action, convert)\u001b[0m\n\u001b[0;32m   1741\u001b[0m values \u001b[38;5;241m=\u001b[39m arr\u001b[38;5;241m.\u001b[39mastype(\u001b[38;5;28mobject\u001b[39m, copy\u001b[38;5;241m=\u001b[39m\u001b[38;5;28;01mFalse\u001b[39;00m)\n\u001b[0;32m   1742\u001b[0m \u001b[38;5;28;01mif\u001b[39;00m na_action \u001b[38;5;129;01mis\u001b[39;00m \u001b[38;5;28;01mNone\u001b[39;00m:\n\u001b[1;32m-> 1743\u001b[0m     \u001b[38;5;28;01mreturn\u001b[39;00m \u001b[43mlib\u001b[49m\u001b[38;5;241;43m.\u001b[39;49m\u001b[43mmap_infer\u001b[49m\u001b[43m(\u001b[49m\u001b[43mvalues\u001b[49m\u001b[43m,\u001b[49m\u001b[43m \u001b[49m\u001b[43mmapper\u001b[49m\u001b[43m,\u001b[49m\u001b[43m \u001b[49m\u001b[43mconvert\u001b[49m\u001b[38;5;241;43m=\u001b[39;49m\u001b[43mconvert\u001b[49m\u001b[43m)\u001b[49m\n\u001b[0;32m   1744\u001b[0m \u001b[38;5;28;01melse\u001b[39;00m:\n\u001b[0;32m   1745\u001b[0m     \u001b[38;5;28;01mreturn\u001b[39;00m lib\u001b[38;5;241m.\u001b[39mmap_infer_mask(\n\u001b[0;32m   1746\u001b[0m         values, mapper, mask\u001b[38;5;241m=\u001b[39misna(values)\u001b[38;5;241m.\u001b[39mview(np\u001b[38;5;241m.\u001b[39muint8), convert\u001b[38;5;241m=\u001b[39mconvert\n\u001b[0;32m   1747\u001b[0m     )\n",
      "File \u001b[1;32mlib.pyx:2972\u001b[0m, in \u001b[0;36mpandas._libs.lib.map_infer\u001b[1;34m()\u001b[0m\n",
      "Cell \u001b[1;32mIn[98], line 19\u001b[0m, in \u001b[0;36m<lambda>\u001b[1;34m(x)\u001b[0m\n\u001b[0;32m     16\u001b[0m enough_data \u001b[38;5;241m=\u001b[39m combined_data_counts[combined_data_counts[\u001b[38;5;124m'\u001b[39m\u001b[38;5;124mindex\u001b[39m\u001b[38;5;124m'\u001b[39m]\u001b[38;5;241m.\u001b[39mstr\u001b[38;5;241m.\u001b[39mcontains(\u001b[38;5;124m'\u001b[39m\u001b[38;5;124mEnough\u001b[39m\u001b[38;5;124m'\u001b[39m)]\u001b[38;5;241m.\u001b[39mreset_index(drop\u001b[38;5;241m=\u001b[39m\u001b[38;5;28;01mTrue\u001b[39;00m)\n\u001b[0;32m     18\u001b[0m \u001b[38;5;66;03m# Plotting the grouped data with different colors\u001b[39;00m\n\u001b[1;32m---> 19\u001b[0m plt\u001b[38;5;241m.\u001b[39mbar(hours_data\u001b[38;5;241m.\u001b[39mindex, hours_data[\u001b[38;5;124m'\u001b[39m\u001b[38;5;124mindex\u001b[39m\u001b[38;5;124m'\u001b[39m]\u001b[38;5;241m.\u001b[39mapply(\u001b[38;5;28;01mlambda\u001b[39;00m x: \u001b[38;5;28;43mint\u001b[39;49m\u001b[43m(\u001b[49m\u001b[43mx\u001b[49m\u001b[38;5;241;43m.\u001b[39;49m\u001b[43msplit\u001b[49m\u001b[43m(\u001b[49m\u001b[43m)\u001b[49m\u001b[43m[\u001b[49m\u001b[38;5;241;43m0\u001b[39;49m\u001b[43m]\u001b[49m\u001b[43m)\u001b[49m), color\u001b[38;5;241m=\u001b[39m\u001b[38;5;124m'\u001b[39m\u001b[38;5;124mskyblue\u001b[39m\u001b[38;5;124m'\u001b[39m, label\u001b[38;5;241m=\u001b[39m\u001b[38;5;124m'\u001b[39m\u001b[38;5;124mHours of Sleep\u001b[39m\u001b[38;5;124m'\u001b[39m)\n\u001b[0;32m     20\u001b[0m plt\u001b[38;5;241m.\u001b[39mbar(enough_data\u001b[38;5;241m.\u001b[39mindex, enough_data[\u001b[38;5;124m'\u001b[39m\u001b[38;5;124mindex\u001b[39m\u001b[38;5;124m'\u001b[39m]\u001b[38;5;241m.\u001b[39mapply(\u001b[38;5;28;01mlambda\u001b[39;00m x: \u001b[38;5;28mint\u001b[39m(x\u001b[38;5;241m.\u001b[39msplit()[\u001b[38;5;241m0\u001b[39m])), color\u001b[38;5;241m=\u001b[39m\u001b[38;5;124m'\u001b[39m\u001b[38;5;124morange\u001b[39m\u001b[38;5;124m'\u001b[39m, label\u001b[38;5;241m=\u001b[39m\u001b[38;5;124m'\u001b[39m\u001b[38;5;124mEnough Sleep\u001b[39m\u001b[38;5;124m'\u001b[39m)\n\u001b[0;32m     22\u001b[0m plt\u001b[38;5;241m.\u001b[39mylabel(\u001b[38;5;124m'\u001b[39m\u001b[38;5;124mHours of Sleep and Enough Sleep\u001b[39m\u001b[38;5;124m'\u001b[39m)\n",
      "\u001b[1;31mValueError\u001b[0m: invalid literal for int() with base 10: '10.0'"
     ]
    }
   ],
   "source": [
    "# Extract the 'Hours' and 'Enough' columns\n",
    "sleeping_hours = sleep_data['Hours']\n",
    "enough_sleeping = sleep_data['Enough']\n",
    "\n",
    "# Combine 'Hours' and 'Enough' into a new column\n",
    "combined_data = sleep_data['Hours'].astype(str) + ' Hours, ' + sleep_data['Enough']\n",
    "\n",
    "# Count occurrences of combined data\n",
    "combined_data_counts = combined_data.value_counts().reset_index()\n",
    "\n",
    "# Sort the DataFrame by the combined data\n",
    "combined_data_counts = combined_data_counts.sort_values(by='index')\n",
    "\n",
    "# Split the combined data into 'Hours' and 'Enough Sleep'\n",
    "hours_data = combined_data_counts[combined_data_counts['index'].str.contains('Hours')].reset_index(drop=True)\n",
    "enough_data = combined_data_counts[combined_data_counts['index'].str.contains('Enough')].reset_index(drop=True)\n",
    "\n",
    "# Plotting the grouped data with different colors\n",
    "plt.bar(hours_data.index, hours_data['index'].apply(lambda x: int(x.split()[0])), color='skyblue', label='Hours of Sleep')\n",
    "plt.bar(enough_data.index, enough_data['index'].apply(lambda x: int(x.split()[0])), color='orange', label='Enough Sleep')\n",
    "\n",
    "plt.ylabel('Hours of Sleep and Enough Sleep')\n",
    "plt.xlabel('Number of People')\n",
    "plt.title('Combined Distribution of Sleep Hours and Enough Sleep')\n",
    "plt.xticks(combined_data_counts.index, combined_data_counts['index'], rotation=45, ha='right')  # Adjust x-axis labels\n",
    "plt.legend()\n",
    "plt.show()\n",
    "\n"
   ]
  }
 ],
 "metadata": {
  "kernelspec": {
   "display_name": "Python 3",
   "language": "python",
   "name": "python3"
  },
  "language_info": {
   "codemirror_mode": {
    "name": "ipython",
    "version": 3
   },
   "file_extension": ".py",
   "mimetype": "text/x-python",
   "name": "python",
   "nbconvert_exporter": "python",
   "pygments_lexer": "ipython3",
   "version": "3.11.7"
  }
 },
 "nbformat": 4,
 "nbformat_minor": 2
}
